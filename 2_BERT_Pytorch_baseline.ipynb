{
 "cells": [
  {
   "cell_type": "markdown",
   "metadata": {},
   "source": [
    "For reference:\n",
    "- https://huggingface.co/docs/transformers/training\n",
    "- https://huggingface.co/dbmdz/bert-base-german-cased\n",
    "- https://huggingface.co/bert-base-german-cased"
   ]
  },
  {
   "cell_type": "markdown",
   "metadata": {},
   "source": [
    "## Train Base BERT (no preprocessing of data)"
   ]
  },
  {
   "cell_type": "code",
   "execution_count": 3,
   "metadata": {},
   "outputs": [
    {
     "name": "stderr",
     "output_type": "stream",
     "text": [
      "Some weights of the model checkpoint at bert-base-german-cased were not used when initializing BertForSequenceClassification: ['cls.seq_relationship.weight', 'cls.predictions.transform.LayerNorm.weight', 'cls.predictions.transform.LayerNorm.bias', 'cls.predictions.transform.dense.weight', 'cls.predictions.transform.dense.bias', 'cls.predictions.bias', 'cls.predictions.decoder.weight', 'cls.seq_relationship.bias']\n",
      "- This IS expected if you are initializing BertForSequenceClassification from the checkpoint of a model trained on another task or with another architecture (e.g. initializing a BertForSequenceClassification model from a BertForPreTraining model).\n",
      "- This IS NOT expected if you are initializing BertForSequenceClassification from the checkpoint of a model that you expect to be exactly identical (initializing a BertForSequenceClassification model from a BertForSequenceClassification model).\n",
      "Some weights of BertForSequenceClassification were not initialized from the model checkpoint at bert-base-german-cased and are newly initialized: ['classifier.bias', 'classifier.weight']\n",
      "You should probably TRAIN this model on a down-stream task to be able to use it for predictions and inference.\n"
     ]
    },
    {
     "name": "stdout",
     "output_type": "stream",
     "text": [
      "There are 1 GPU(s) available.\n",
      "We will use the GPU: NVIDIA GeForce RTX 2070 with Max-Q Design\n",
      "EPOCH 1/20\n",
      "\n",
      "\n",
      "Avg training loss:    2.3768566325306892\n",
      "Avg validation loss:  1.8856872618198395\n",
      "F1 validation score:  {'f1': 0.3846322078800518}\n",
      "\n",
      "EPOCH 2/20\n",
      "\n",
      "\n",
      "Avg training loss:    1.6215808428823948\n",
      "Avg validation loss:  1.510185420513153\n",
      "F1 validation score:  {'f1': 0.5208472769638829}\n",
      "\n",
      "EPOCH 3/20\n",
      "\n",
      "\n",
      "Avg training loss:    1.1745678875595331\n",
      "Avg validation loss:  1.299536556005478\n",
      "F1 validation score:  {'f1': 0.5949453043891153}\n",
      "\n",
      "EPOCH 4/20\n",
      "\n",
      "\n",
      "Avg training loss:    0.8900032313540578\n",
      "Avg validation loss:  1.2293509244918823\n",
      "F1 validation score:  {'f1': 0.6178768983628741}\n",
      "\n",
      "EPOCH 5/20\n",
      "\n",
      "\n",
      "Avg training loss:    0.7025119243189692\n",
      "Avg validation loss:  1.1901220679283142\n",
      "F1 validation score:  {'f1': 0.6605654031023939}\n",
      "\n",
      "EPOCH 6/20\n",
      "\n",
      "\n",
      "Avg training loss:    0.5519289677031338\n",
      "Avg validation loss:  1.1641127169132233\n",
      "F1 validation score:  {'f1': 0.6586609754751348}\n",
      "\n",
      "EPOCH 7/20\n",
      "\n",
      "\n",
      "Avg training loss:    0.4471512548625469\n",
      "Avg validation loss:  1.2121393084526062\n",
      "F1 validation score:  {'f1': 0.653828927373408}\n",
      "\n",
      "EPOCH 8/20\n",
      "\n",
      "\n",
      "Avg training loss:    0.3459668743889779\n",
      "Avg validation loss:  1.1768621504306793\n",
      "F1 validation score:  {'f1': 0.6838912800254207}\n",
      "\n",
      "EPOCH 9/20\n",
      "\n",
      "\n",
      "Avg training loss:    0.2726507158949971\n",
      "Avg validation loss:  1.2332046031951904\n",
      "F1 validation score:  {'f1': 0.6866886777985259}\n",
      "\n",
      "EPOCH 10/20\n",
      "\n",
      "\n",
      "Avg training loss:    0.22207883326336741\n",
      "Avg validation loss:  1.1623601913452148\n",
      "F1 validation score:  {'f1': 0.7063277719716392}\n",
      "\n",
      "EPOCH 11/20\n",
      "\n",
      "\n",
      "Avg training loss:    0.1860446275677532\n",
      "Avg validation loss:  1.1067301779985428\n",
      "F1 validation score:  {'f1': 0.7199579181880067}\n",
      "\n",
      "EPOCH 12/20\n",
      "\n",
      "\n",
      "Avg training loss:    0.1452030660584569\n",
      "Avg validation loss:  1.1890316307544708\n",
      "F1 validation score:  {'f1': 0.7246839920447417}\n",
      "\n",
      "EPOCH 13/20\n",
      "\n",
      "\n",
      "Avg training loss:    0.1174428851227276\n",
      "Avg validation loss:  1.1462084203958511\n",
      "F1 validation score:  {'f1': 0.7293974462116055}\n",
      "\n",
      "EPOCH 14/20\n",
      "\n",
      "\n",
      "Avg training loss:    0.09716900816420093\n",
      "Avg validation loss:  1.1538090705871582\n",
      "F1 validation score:  {'f1': 0.7285830852202534}\n",
      "\n",
      "EPOCH 15/20\n",
      "\n",
      "\n",
      "Avg training loss:    0.0827891041408293\n",
      "Avg validation loss:  1.167988806962967\n",
      "F1 validation score:  {'f1': 0.7270318341114801}\n",
      "\n",
      "EPOCH 16/20\n",
      "\n",
      "\n",
      "Avg training loss:    0.071192754607182\n",
      "Avg validation loss:  1.1763273179531097\n",
      "F1 validation score:  {'f1': 0.7264097548854807}\n",
      "\n",
      "EPOCH 17/20\n",
      "\n",
      "\n",
      "Avg training loss:    0.06373256485676393\n",
      "Avg validation loss:  1.185967892408371\n",
      "F1 validation score:  {'f1': 0.7205943313709421}\n",
      "\n",
      "EPOCH 18/20\n",
      "\n",
      "\n",
      "Avg training loss:    0.059582766552921385\n",
      "Avg validation loss:  1.1812920272350311\n",
      "F1 validation score:  {'f1': 0.7343556148865884}\n",
      "\n",
      "EPOCH 19/20\n",
      "\n",
      "\n",
      "Avg training loss:    0.05618343607056886\n",
      "Avg validation loss:  1.1901245415210724\n",
      "F1 validation score:  {'f1': 0.7372518337120106}\n",
      "\n",
      "EPOCH 20/20\n",
      "\n",
      "\n",
      "Avg training loss:    0.05224176510819234\n",
      "Avg validation loss:  1.1877150237560272\n",
      "F1 validation score:  {'f1': 0.7372518337120106}\n",
      "\n",
      "\n",
      "Training results:  [{'epoch': 1, 'training_loss': 2.3768566325306892, 'validation_loss': 1.8856872618198395, 'validation_f1_score': {'f1': 0.3846322078800518}}, {'epoch': 2, 'training_loss': 1.6215808428823948, 'validation_loss': 1.510185420513153, 'validation_f1_score': {'f1': 0.5208472769638829}}, {'epoch': 3, 'training_loss': 1.1745678875595331, 'validation_loss': 1.299536556005478, 'validation_f1_score': {'f1': 0.5949453043891153}}, {'epoch': 4, 'training_loss': 0.8900032313540578, 'validation_loss': 1.2293509244918823, 'validation_f1_score': {'f1': 0.6178768983628741}}, {'epoch': 5, 'training_loss': 0.7025119243189692, 'validation_loss': 1.1901220679283142, 'validation_f1_score': {'f1': 0.6605654031023939}}, {'epoch': 6, 'training_loss': 0.5519289677031338, 'validation_loss': 1.1641127169132233, 'validation_f1_score': {'f1': 0.6586609754751348}}, {'epoch': 7, 'training_loss': 0.4471512548625469, 'validation_loss': 1.2121393084526062, 'validation_f1_score': {'f1': 0.653828927373408}}, {'epoch': 8, 'training_loss': 0.3459668743889779, 'validation_loss': 1.1768621504306793, 'validation_f1_score': {'f1': 0.6838912800254207}}, {'epoch': 9, 'training_loss': 0.2726507158949971, 'validation_loss': 1.2332046031951904, 'validation_f1_score': {'f1': 0.6866886777985259}}, {'epoch': 10, 'training_loss': 0.22207883326336741, 'validation_loss': 1.1623601913452148, 'validation_f1_score': {'f1': 0.7063277719716392}}, {'epoch': 11, 'training_loss': 0.1860446275677532, 'validation_loss': 1.1067301779985428, 'validation_f1_score': {'f1': 0.7199579181880067}}, {'epoch': 12, 'training_loss': 0.1452030660584569, 'validation_loss': 1.1890316307544708, 'validation_f1_score': {'f1': 0.7246839920447417}}, {'epoch': 13, 'training_loss': 0.1174428851227276, 'validation_loss': 1.1462084203958511, 'validation_f1_score': {'f1': 0.7293974462116055}}, {'epoch': 14, 'training_loss': 0.09716900816420093, 'validation_loss': 1.1538090705871582, 'validation_f1_score': {'f1': 0.7285830852202534}}, {'epoch': 15, 'training_loss': 0.0827891041408293, 'validation_loss': 1.167988806962967, 'validation_f1_score': {'f1': 0.7270318341114801}}, {'epoch': 16, 'training_loss': 0.071192754607182, 'validation_loss': 1.1763273179531097, 'validation_f1_score': {'f1': 0.7264097548854807}}, {'epoch': 17, 'training_loss': 0.06373256485676393, 'validation_loss': 1.185967892408371, 'validation_f1_score': {'f1': 0.7205943313709421}}, {'epoch': 18, 'training_loss': 0.059582766552921385, 'validation_loss': 1.1812920272350311, 'validation_f1_score': {'f1': 0.7343556148865884}}, {'epoch': 19, 'training_loss': 0.05618343607056886, 'validation_loss': 1.1901245415210724, 'validation_f1_score': {'f1': 0.7372518337120106}}, {'epoch': 20, 'training_loss': 0.05224176510819234, 'validation_loss': 1.1877150237560272, 'validation_f1_score': {'f1': 0.7372518337120106}}]\n"
     ]
    }
   ],
   "source": [
    "import torch\n",
    "from transformers import AutoModelForSequenceClassification\n",
    "\n",
    "from lib.bert_pytorch.train import train_model_on_full_train_data, train_model_on_train_data\n",
    "\n",
    "import warnings\n",
    "warnings.filterwarnings(\"ignore\")\n",
    "\n",
    "MODEL_NAME = \"bert-base-german-cased\"\n",
    "# MODEL_NAME = \"bert-base-german-dbmdz-cased\"\n",
    "DATA_PATH = \"data/preprocessed_data.csv\"\n",
    "BATCH_SIZE = 32\n",
    "NUM_EPOCHS = 20\n",
    "SEED = 42\n",
    "TRAIN_MODEL_ON_FULL_TRAINING_DATA = False\n",
    "SAVE_NEW_MODEL = True\n",
    "USE_PRETRAINED_MODEL = False\n",
    "DOWNLOAD_WEIGHTS = False\n",
    "\n",
    "if USE_PRETRAINED_MODEL:\n",
    "    if DOWNLOAD_WEIGHTS:\n",
    "        import gdown\n",
    "        print(\"Downloading weights\")\n",
    "        id = \"\"\n",
    "        output = \"pretrained_model/model_state_dict.pt\"\n",
    "        gdown.download(output=output, quiet=False, id=id)\n",
    "\n",
    "    model = AutoModelForSequenceClassification.from_pretrained(\n",
    "            MODEL_NAME,\n",
    "            num_labels = 24,\n",
    "            output_attentions = False,\n",
    "            output_hidden_states = False,\n",
    "        )\n",
    "    model.load_state_dict(torch.load(\"pretrained_model/model_state_dict.pt\"))\n",
    "\n",
    "else:\n",
    "    if TRAIN_MODEL_ON_FULL_TRAINING_DATA:\n",
    "        model, training_stats = train_model_on_full_train_data(DATA_PATH, MODEL_NAME, BATCH_SIZE, NUM_EPOCHS, SEED)\n",
    "    else:\n",
    "        model, training_stats = train_model_on_train_data(DATA_PATH, MODEL_NAME, BATCH_SIZE, NUM_EPOCHS, SEED)\n",
    "    print(\"\\nTraining results: \", training_stats)\n",
    "\n",
    "    if SAVE_NEW_MODEL:\n",
    "        torch.save(model.state_dict(), \"pretrained_models/bert_pytorch/model_state_dict.pt\")\n",
    "        torch.save(model, \"pretrained_models/bert_pytorch/entire_model.pt\")"
   ]
  },
  {
   "cell_type": "code",
   "execution_count": 7,
   "metadata": {},
   "outputs": [
    {
     "data": {
      "text/html": [
       "<div>\n",
       "<style scoped>\n",
       "    .dataframe tbody tr th:only-of-type {\n",
       "        vertical-align: middle;\n",
       "    }\n",
       "\n",
       "    .dataframe tbody tr th {\n",
       "        vertical-align: top;\n",
       "    }\n",
       "\n",
       "    .dataframe thead th {\n",
       "        text-align: right;\n",
       "    }\n",
       "</style>\n",
       "<table border=\"1\" class=\"dataframe\">\n",
       "  <thead>\n",
       "    <tr style=\"text-align: right;\">\n",
       "      <th></th>\n",
       "      <th>model_name</th>\n",
       "      <th>parameters</th>\n",
       "      <th>dataset</th>\n",
       "      <th>accuracy</th>\n",
       "      <th>f1</th>\n",
       "    </tr>\n",
       "  </thead>\n",
       "  <tbody>\n",
       "    <tr>\n",
       "      <th>0</th>\n",
       "      <td>BERT base baseline</td>\n",
       "      <td>default</td>\n",
       "      <td>raw without duplicates</td>\n",
       "      <td>None</td>\n",
       "      <td>0.737252</td>\n",
       "    </tr>\n",
       "  </tbody>\n",
       "</table>\n",
       "</div>"
      ],
      "text/plain": [
       "           model_name parameters                 dataset accuracy        f1\n",
       "0  BERT base baseline    default  raw without duplicates     None  0.737252"
      ]
     },
     "execution_count": 7,
     "metadata": {},
     "output_type": "execute_result"
    }
   ],
   "source": [
    "import pandas as pd\n",
    "\n",
    "tmp = pd.read_csv(\"results/results.csv\")\n",
    "tmp = tmp.append({\"model_name\": \"BERT base baseline\",\"parameters\": \"default\",\"dataset\": \"raw without duplicates\",\"accuracy\": None ,\"f1\": 0.7372518337120106}, ignore_index=True)\n",
    "tmp.to_csv(\"results/results.csv\", index=False)\n",
    "tmp.head(10)"
   ]
  },
  {
   "cell_type": "markdown",
   "metadata": {},
   "source": [
    "## Check system hardware"
   ]
  },
  {
   "cell_type": "code",
   "execution_count": 1,
   "metadata": {},
   "outputs": [
    {
     "name": "stdout",
     "output_type": "stream",
     "text": [
      "NVIDIA Graphics Card Driver:  Wed Feb  2 03:59:08 2022       \n",
      "+-----------------------------------------------------------------------------+\n",
      "| NVIDIA-SMI 496.76       Driver Version: 496.76       CUDA Version: 11.5     |\n",
      "|-------------------------------+----------------------+----------------------+\n",
      "| GPU  Name            TCC/WDDM | Bus-Id        Disp.A | Volatile Uncorr. ECC |\n",
      "| Fan  Temp  Perf  Pwr:Usage/Cap|         Memory-Usage | GPU-Util  Compute M. |\n",
      "|                               |                      |               MIG M. |\n",
      "|===============================+======================+======================|\n",
      "|   0  NVIDIA GeForce ... WDDM  | 00000000:01:00.0  On |                  N/A |\n",
      "| N/A   51C    P8     6W /  N/A |    911MiB /  8192MiB |     25%      Default |\n",
      "|                               |                      |                  N/A |\n",
      "+-------------------------------+----------------------+----------------------+\n",
      "                                                                    \n",
      "CUDA version:  nvcc: NVIDIA (R) Cuda compiler driver\n",
      "Copyright (c) 2005-2020 NVIDIA Corporation\n",
      "Built on Wed_Jul_22_19:09:35_Pacific_Daylight_Time_2020\n",
      "Cuda compilation tools, release 11.0, V11.0.221\n",
      "Build cuda_11.0_bu.relgpu_drvr445TC445_37.28845127_0 \n",
      "\n"
     ]
    }
   ],
   "source": [
    "from lib.bert_pytorch.helper_functions import get_cuda_info, get_torch_info\n",
    "\n",
    "get_cuda_info()"
   ]
  },
  {
   "cell_type": "code",
   "execution_count": 2,
   "metadata": {},
   "outputs": [
    {
     "name": "stdout",
     "output_type": "stream",
     "text": [
      "Name: torch\n",
      "Version: 1.7.1+cu110\n",
      "Summary: Tensors and Dynamic neural networks in Python with strong GPU acceleration\n",
      "Home-page: https://pytorch.org/\n",
      "Author: PyTorch Team\n",
      "Author-email: packages@pytorch.org\n",
      "License: BSD-3\n",
      "Location: c:\\users\\lisandro\\desktop\\projects\\case-lisandro\\venv\\lib\\site-packages\n",
      "Requires: typing-extensions, numpy\n",
      "Required-by: torchvision, torchaudio \n",
      "\n"
     ]
    }
   ],
   "source": [
    "get_torch_info()"
   ]
  },
  {
   "cell_type": "code",
   "execution_count": 3,
   "metadata": {},
   "outputs": [
    {
     "name": "stdout",
     "output_type": "stream",
     "text": [
      "There are 1 GPU(s) available.\n",
      "We will use the GPU: NVIDIA GeForce RTX 2070 with Max-Q Design\n"
     ]
    }
   ],
   "source": [
    "from lib.bert_pytorch.helper_functions import get_device\n",
    "\n",
    "device = get_device()"
   ]
  }
 ],
 "metadata": {
  "interpreter": {
   "hash": "9ffdfb0697f174c80f5cf0b5f22ddc30cefc12684f1f3af5faba8742076bf488"
  },
  "kernelspec": {
   "display_name": "Python 3.9.9 64-bit ('venv': venv)",
   "language": "python",
   "name": "python3"
  },
  "language_info": {
   "codemirror_mode": {
    "name": "ipython",
    "version": 3
   },
   "file_extension": ".py",
   "mimetype": "text/x-python",
   "name": "python",
   "nbconvert_exporter": "python",
   "pygments_lexer": "ipython3",
   "version": "3.9.9"
  },
  "orig_nbformat": 4
 },
 "nbformat": 4,
 "nbformat_minor": 2
}
