{
 "cells": [
  {
   "cell_type": "code",
   "execution_count": null,
   "metadata": {},
   "outputs": [],
   "source": [
    "import scrapy\n",
    "from scrapy.crawler import CrawlerProcess\n",
    "\n",
    "\n",
    "class ZuwendungsdatenbankSpider(scrapy.Spider):\n",
    "    name = 'zuwendungsdatenbank'\n",
    "    custom_settings = {\n",
    "        'DOWNLOAD_DELAY': 3,\n",
    "    }\n",
    "    start_urls = ['https://www.berlin.de/sen/finanzen/service/zuwendungsdatenbank/?q=&name=&geber=--+Alles+--&art=--+Alles+--&jahr=--+Alles+--&anschrift=&politikbereich=--+Alles+--&zweck=#searchresults']\n",
    "\n",
    "    def start_requests(self):\n",
    "        yield scrapy.Request(self.start_urls[0])\n",
    "\n",
    "    def parse(self, response):\n",
    "        table_rows = response.css(\"table.result.table tbody tr\")\n",
    "        for table_row in table_rows:\n",
    "            if table_row.css(\".line_1\"):\n",
    "                result_dictionary = {}\n",
    "\n",
    "                result_dictionary[\"Name\"] = table_row.xpath(\"string(.//td[@headers='Name'])\").get()\n",
    "                result_dictionary[\"Geber\"] = table_row.xpath(\"string(.//td[@headers='Geber'])\").get()\n",
    "                result_dictionary[\"Art\"] = table_row.xpath(\"string(.//td[@headers='Art'])\").get()\n",
    "                result_dictionary[\"Jahr\"] = table_row.xpath(\"string(.//td[@headers='Jahr'])\").get()\n",
    "\n",
    "            else:\n",
    "                result_dictionary[\"Anschrift\"] = table_row.xpath(\"string(.//td[@headers='Anschrift'])\").get()\n",
    "                result_dictionary[\"Politikbereich\"] = table_row.xpath(\"string(.//td[@headers='Politikbereich'])\").get()\n",
    "                result_dictionary[\"Zweck\"] = table_row.xpath(\"string(.//td[@headers='Zweck'])\").get()\n",
    "                result_dictionary[\"Betrag\"] = table_row.xpath(\"string(.//td[@headers='Betrag'])\").get()\n",
    "\n",
    "                yield result_dictionary\n",
    "\n",
    "        next_page = response.css(\"li.pager-item-next>a::attr(href)\").get()\n",
    "        # self.log(next_page)\n",
    "        if next_page:\n",
    "            yield response.follow(next_page,callback=self.parse)\n",
    "\n",
    "    \n",
    "process = CrawlerProcess(\n",
    "    settings = {\n",
    "        'FEED_URI' : 'data/raw_data.csv',\n",
    "        'FEED_FORMAT' : 'csv'\n",
    "    }\n",
    ")\n",
    "\n",
    "process.crawl(ZuwendungsdatenbankSpider)\n",
    "process.start()"
   ]
  }
 ],
 "metadata": {
  "language_info": {
   "name": "python"
  },
  "orig_nbformat": 4
 },
 "nbformat": 4,
 "nbformat_minor": 2
}
