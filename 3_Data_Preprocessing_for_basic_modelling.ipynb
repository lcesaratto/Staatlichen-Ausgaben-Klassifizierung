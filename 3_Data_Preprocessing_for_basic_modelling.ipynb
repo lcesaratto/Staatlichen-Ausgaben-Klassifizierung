{
 "cells": [
  {
   "cell_type": "markdown",
   "metadata": {},
   "source": [
    "### Load and visualize dataset"
   ]
  },
  {
   "cell_type": "code",
   "execution_count": 1,
   "metadata": {},
   "outputs": [
    {
     "data": {
      "text/html": [
       "<div>\n",
       "<style scoped>\n",
       "    .dataframe tbody tr th:only-of-type {\n",
       "        vertical-align: middle;\n",
       "    }\n",
       "\n",
       "    .dataframe tbody tr th {\n",
       "        vertical-align: top;\n",
       "    }\n",
       "\n",
       "    .dataframe thead th {\n",
       "        text-align: right;\n",
       "    }\n",
       "</style>\n",
       "<table border=\"1\" class=\"dataframe\">\n",
       "  <thead>\n",
       "    <tr style=\"text-align: right;\">\n",
       "      <th></th>\n",
       "      <th>Politikbereich</th>\n",
       "      <th>Zweck</th>\n",
       "    </tr>\n",
       "  </thead>\n",
       "  <tbody>\n",
       "    <tr>\n",
       "      <th>0</th>\n",
       "      <td>Verkehr</td>\n",
       "      <td>Nord-Süd-Tangente; Linie 26/27, 2.2. Teil-BPU,A</td>\n",
       "    </tr>\n",
       "    <tr>\n",
       "      <th>1</th>\n",
       "      <td>Bildung</td>\n",
       "      <td>Gedenken zu 30 Jahre Mauerfall</td>\n",
       "    </tr>\n",
       "    <tr>\n",
       "      <th>2</th>\n",
       "      <td>Stadtentwicklung</td>\n",
       "      <td>Lernen Na Logo - Bildungsnetzwerk Hellersdorfer Promenade</td>\n",
       "    </tr>\n",
       "    <tr>\n",
       "      <th>3</th>\n",
       "      <td>Jugend</td>\n",
       "      <td>Kinder- und Jugendambulanz</td>\n",
       "    </tr>\n",
       "    <tr>\n",
       "      <th>4</th>\n",
       "      <td>Jugend</td>\n",
       "      <td>Therapiebad</td>\n",
       "    </tr>\n",
       "    <tr>\n",
       "      <th>5</th>\n",
       "      <td>Integration</td>\n",
       "      <td>Stadtteilmütter in Neukölln</td>\n",
       "    </tr>\n",
       "    <tr>\n",
       "      <th>6</th>\n",
       "      <td>Jugend</td>\n",
       "      <td>Ausbau Familienzentrum</td>\n",
       "    </tr>\n",
       "    <tr>\n",
       "      <th>7</th>\n",
       "      <td>Jugend</td>\n",
       "      <td>Machbarkeitsstudie queeres Jugendzentrum</td>\n",
       "    </tr>\n",
       "    <tr>\n",
       "      <th>8</th>\n",
       "      <td>Jugend</td>\n",
       "      <td>Im Dorf der Hoffnung</td>\n",
       "    </tr>\n",
       "    <tr>\n",
       "      <th>9</th>\n",
       "      <td>Jugend</td>\n",
       "      <td>Projekttage VIELFÄLTIG FREIWILLIG</td>\n",
       "    </tr>\n",
       "  </tbody>\n",
       "</table>\n",
       "</div>"
      ],
      "text/plain": [
       "     Politikbereich                                                      Zweck\n",
       "0           Verkehr            Nord-Süd-Tangente; Linie 26/27, 2.2. Teil-BPU,A\n",
       "1           Bildung                             Gedenken zu 30 Jahre Mauerfall\n",
       "2  Stadtentwicklung  Lernen Na Logo - Bildungsnetzwerk Hellersdorfer Promenade\n",
       "3            Jugend                                 Kinder- und Jugendambulanz\n",
       "4            Jugend                                                Therapiebad\n",
       "5       Integration                                Stadtteilmütter in Neukölln\n",
       "6            Jugend                                     Ausbau Familienzentrum\n",
       "7            Jugend                   Machbarkeitsstudie queeres Jugendzentrum\n",
       "8            Jugend                                       Im Dorf der Hoffnung\n",
       "9            Jugend                          Projekttage VIELFÄLTIG FREIWILLIG"
      ]
     },
     "execution_count": 1,
     "metadata": {},
     "output_type": "execute_result"
    }
   ],
   "source": [
    "import pandas as pd\n",
    "\n",
    "df = pd.read_csv(\"data/selected_data.csv\")\n",
    "\n",
    "pd.set_option('display.max_colwidth', None)\n",
    "pd.set_option('display.max_rows', None)\n",
    "df.head(10)"
   ]
  },
  {
   "cell_type": "code",
   "execution_count": 2,
   "metadata": {},
   "outputs": [
    {
     "data": {
      "text/plain": [
       "895     28\n",
       "1084    27\n",
       "832     26\n",
       "401     26\n",
       "841     24\n",
       "233     24\n",
       "96      23\n",
       "621     21\n",
       "225     20\n",
       "191     20\n",
       "Name: Zweck, dtype: int64"
      ]
     },
     "execution_count": 2,
     "metadata": {},
     "output_type": "execute_result"
    }
   ],
   "source": [
    "df[\"Zweck\"].apply(lambda s: len(s.split())).sort_values(ascending = False).iloc[:10]"
   ]
  },
  {
   "cell_type": "markdown",
   "metadata": {},
   "source": [
    "Observation: given the small size of the dataset (1138 examples), and the fact that the longest sentence has ~28 tokens, there is no reasonable reason for using bigrams or trigrams. Therefore, the model will be trained on lemmatized tokens and other text features."
   ]
  },
  {
   "cell_type": "markdown",
   "metadata": {},
   "source": [
    "### Data Augmentation (not used yet)"
   ]
  },
  {
   "cell_type": "markdown",
   "metadata": {},
   "source": [
    "State of art NLP library (nlpaug) for text augmentation"
   ]
  },
  {
   "cell_type": "markdown",
   "metadata": {},
   "source": [
    "Reference:\n",
    "- https://github.com/makcedward/nlpaug\n",
    "- https://github.com/makcedward/nlpaug/blob/master/example/textual_augmenter.ipynb"
   ]
  },
  {
   "cell_type": "code",
   "execution_count": 3,
   "metadata": {},
   "outputs": [],
   "source": [
    "import nlpaug.augmenter.word as naw\n",
    "\n",
    "text = \"Zusammen Fit für die Schule – Projekt zur Förderung der Sprachentwicklung von Vorschulkindern (FEIN Mittel)\""
   ]
  },
  {
   "cell_type": "markdown",
   "metadata": {},
   "source": [
    "Insert word by contextual word embeddings (BERT, DistilBERT, RoBERTA or XLNet)"
   ]
  },
  {
   "cell_type": "code",
   "execution_count": 4,
   "metadata": {},
   "outputs": [
    {
     "name": "stdout",
     "output_type": "stream",
     "text": [
      "Original:\n",
      "Zusammen Fit für die Schule – Projekt zur Förderung der Sprachentwicklung von Vorschulkindern (FEIN Mittel)\n",
      "Augmented Text:\n",
      "Zusammen tragen Fit etwas für die Schule ist [UNK] das Projekt zur musikalischen Förderung der erfolgreichen Sprachentwicklung etwa von Vorschulkindern ( FEIN [UNK] Mittel )\n"
     ]
    }
   ],
   "source": [
    "aug = naw.ContextualWordEmbsAug(\n",
    "    model_path='bert-base-german-cased', action=\"insert\")\n",
    "augmented_text = aug.augment(text)\n",
    "print(\"Original:\")\n",
    "print(text)\n",
    "print(\"Augmented Text:\")\n",
    "print(augmented_text)"
   ]
  },
  {
   "cell_type": "markdown",
   "metadata": {},
   "source": [
    "Substitute word by contextual word embeddings (BERT, DistilBERT, RoBERTA or XLNet)"
   ]
  },
  {
   "cell_type": "code",
   "execution_count": 5,
   "metadata": {},
   "outputs": [
    {
     "name": "stdout",
     "output_type": "stream",
     "text": [
      "Original:\n",
      "Zusammen Fit für die Schule – Projekt zur Förderung der Sprachentwicklung von Vorschulkindern (FEIN Mittel)\n",
      "Augmented Text:\n",
      "Am Fit für die Gruppe helfen Sie der Förderung der Betreuung von Vorschulkindern ( Eine AG )\n"
     ]
    }
   ],
   "source": [
    "aug = naw.ContextualWordEmbsAug(\n",
    "    model_path='bert-base-german-cased', action=\"substitute\")\n",
    "augmented_text = aug.augment(text)\n",
    "print(\"Original:\")\n",
    "print(text)\n",
    "print(\"Augmented Text:\")\n",
    "print(augmented_text)"
   ]
  },
  {
   "cell_type": "markdown",
   "metadata": {},
   "source": [
    "### Text cleaning and normalization with Regex and Spacy"
   ]
  },
  {
   "cell_type": "code",
   "execution_count": 6,
   "metadata": {},
   "outputs": [],
   "source": [
    "# !python -m spacy download de_core_news_lg"
   ]
  },
  {
   "cell_type": "code",
   "execution_count": 7,
   "metadata": {},
   "outputs": [],
   "source": [
    "import re\n",
    "\n",
    "def cleaner(text):\n",
    "    # Remove mid slash and digits\n",
    "    text = re.sub(r'-', ' ', text)\n",
    "    text = re.sub(r'\\d+', '', text)\n",
    "    # Custom ones not supported by spacy\n",
    "    text = re.sub(r'Abs\\.', 'Absatz', text)\n",
    "    text = re.sub(r'e\\.V\\.', 'eingetragener Verein', text)\n",
    "    text = re.sub(r'co\\.', 'Kompanie', text)\n",
    "    text = re.sub(r'Co\\.', 'Kompanie', text)\n",
    "    text = re.sub(r'gem\\.', 'gemäß', text)\n",
    "    text = re.sub(r\"'s\", '', text)\n",
    "    \n",
    "    return text\n",
    "\n",
    "df[\"Zweck\"] = df[\"Zweck\"].apply(cleaner)"
   ]
  },
  {
   "cell_type": "code",
   "execution_count": 8,
   "metadata": {},
   "outputs": [
    {
     "data": {
      "text/plain": [
       "[('tok2vec', <spacy.pipeline.tok2vec.Tok2Vec at 0x14787f29220>),\n",
       " ('tagger', <spacy.pipeline.tagger.Tagger at 0x14787e279a0>),\n",
       " ('morphologizer',\n",
       "  <spacy.pipeline.morphologizer.Morphologizer at 0x14787e27a00>),\n",
       " ('lemmatizer', <spacy.pipeline.lemmatizer.Lemmatizer at 0x14787fb3200>)]"
      ]
     },
     "execution_count": 8,
     "metadata": {},
     "output_type": "execute_result"
    }
   ],
   "source": [
    "import spacy\n",
    "\n",
    "nlp = spacy.load(\"de_core_news_lg\")\n",
    "\n",
    "nlp.remove_pipe(\"ner\")\n",
    "nlp.remove_pipe(\"parser\")\n",
    "nlp.remove_pipe(\"attribute_ruler\")\n",
    "nlp.pipeline"
   ]
  },
  {
   "cell_type": "code",
   "execution_count": 9,
   "metadata": {},
   "outputs": [
    {
     "data": {
      "text/html": [
       "<div>\n",
       "<style scoped>\n",
       "    .dataframe tbody tr th:only-of-type {\n",
       "        vertical-align: middle;\n",
       "    }\n",
       "\n",
       "    .dataframe tbody tr th {\n",
       "        vertical-align: top;\n",
       "    }\n",
       "\n",
       "    .dataframe thead th {\n",
       "        text-align: right;\n",
       "    }\n",
       "</style>\n",
       "<table border=\"1\" class=\"dataframe\">\n",
       "  <thead>\n",
       "    <tr style=\"text-align: right;\">\n",
       "      <th></th>\n",
       "      <th>Politikbereich</th>\n",
       "      <th>Zweck</th>\n",
       "    </tr>\n",
       "  </thead>\n",
       "  <tbody>\n",
       "    <tr>\n",
       "      <th>0</th>\n",
       "      <td>Verkehr</td>\n",
       "      <td>nord süd tangente linie bpu</td>\n",
       "    </tr>\n",
       "    <tr>\n",
       "      <th>1</th>\n",
       "      <td>Bildung</td>\n",
       "      <td>gedenken mauerfall</td>\n",
       "    </tr>\n",
       "    <tr>\n",
       "      <th>2</th>\n",
       "      <td>Stadtentwicklung</td>\n",
       "      <td>lernen logo bildungsnetzwerk hellersdorfer promenade</td>\n",
       "    </tr>\n",
       "    <tr>\n",
       "      <th>3</th>\n",
       "      <td>Jugend</td>\n",
       "      <td>kind jugendambulanz</td>\n",
       "    </tr>\n",
       "    <tr>\n",
       "      <th>4</th>\n",
       "      <td>Jugend</td>\n",
       "      <td>therapiebad</td>\n",
       "    </tr>\n",
       "    <tr>\n",
       "      <th>5</th>\n",
       "      <td>Integration</td>\n",
       "      <td>stadtteilmütter neukölln</td>\n",
       "    </tr>\n",
       "    <tr>\n",
       "      <th>6</th>\n",
       "      <td>Jugend</td>\n",
       "      <td>ausbau familienzentrum</td>\n",
       "    </tr>\n",
       "    <tr>\n",
       "      <th>7</th>\n",
       "      <td>Jugend</td>\n",
       "      <td>machbarkeitsstudie queeres jugendzentrum</td>\n",
       "    </tr>\n",
       "    <tr>\n",
       "      <th>8</th>\n",
       "      <td>Jugend</td>\n",
       "      <td>dorf hoffnung</td>\n",
       "    </tr>\n",
       "    <tr>\n",
       "      <th>9</th>\n",
       "      <td>Jugend</td>\n",
       "      <td>projekttage vielfältig freiwillig</td>\n",
       "    </tr>\n",
       "  </tbody>\n",
       "</table>\n",
       "</div>"
      ],
      "text/plain": [
       "     Politikbereich                                                 Zweck\n",
       "0           Verkehr                           nord süd tangente linie bpu\n",
       "1           Bildung                                    gedenken mauerfall\n",
       "2  Stadtentwicklung  lernen logo bildungsnetzwerk hellersdorfer promenade\n",
       "3            Jugend                                   kind jugendambulanz\n",
       "4            Jugend                                           therapiebad\n",
       "5       Integration                              stadtteilmütter neukölln\n",
       "6            Jugend                                ausbau familienzentrum\n",
       "7            Jugend              machbarkeitsstudie queeres jugendzentrum\n",
       "8            Jugend                                         dorf hoffnung\n",
       "9            Jugend                     projekttage vielfältig freiwillig"
      ]
     },
     "execution_count": 9,
     "metadata": {},
     "output_type": "execute_result"
    }
   ],
   "source": [
    "def normalize(text):\n",
    "    doc = nlp(text)\n",
    "    output = []\n",
    "    for token in doc:\n",
    "        if not token.is_punct and not token.is_stop and not token.is_space:\n",
    "            output.append(token.lemma_.lower())\n",
    "    return \" \".join(output)\n",
    "\n",
    "df[\"Zweck\"] = df[\"Zweck\"].apply(normalize)\n",
    "df.head(10)"
   ]
  },
  {
   "cell_type": "markdown",
   "metadata": {},
   "source": [
    "### Save the preprocessed dataset"
   ]
  },
  {
   "cell_type": "code",
   "execution_count": 10,
   "metadata": {},
   "outputs": [],
   "source": [
    "df.to_csv(\"data/preprocessed_data.csv\", index = False)"
   ]
  }
 ],
 "metadata": {
  "interpreter": {
   "hash": "9ffdfb0697f174c80f5cf0b5f22ddc30cefc12684f1f3af5faba8742076bf488"
  },
  "kernelspec": {
   "display_name": "Python 3.9.9 64-bit ('venv': venv)",
   "language": "python",
   "name": "python3"
  },
  "language_info": {
   "codemirror_mode": {
    "name": "ipython",
    "version": 3
   },
   "file_extension": ".py",
   "mimetype": "text/x-python",
   "name": "python",
   "nbconvert_exporter": "python",
   "pygments_lexer": "ipython3",
   "version": "3.9.9"
  },
  "orig_nbformat": 4
 },
 "nbformat": 4,
 "nbformat_minor": 2
}
