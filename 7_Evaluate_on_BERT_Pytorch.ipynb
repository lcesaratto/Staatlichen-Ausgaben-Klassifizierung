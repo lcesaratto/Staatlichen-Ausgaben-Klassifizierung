{
 "cells": [
  {
   "cell_type": "code",
   "execution_count": 2,
   "metadata": {},
   "outputs": [
    {
     "name": "stdout",
     "output_type": "stream",
     "text": [
      "Downloading weights\n"
     ]
    },
    {
     "name": "stderr",
     "output_type": "stream",
     "text": [
      "Downloading...\n",
      "From: https://drive.google.com/uc?id=1s3JPvZLDNLoF3Qu3MyOfZoGHAopxyc4C\n",
      "To: c:\\Users\\Lisandro\\Desktop\\Projects\\case-lisandro\\pretrained_models\\bert_pytorch\\model_state_dict.pt\n",
      "100%|██████████| 436M/436M [00:33<00:00, 13.1MB/s] \n",
      "[WinError 32] The process cannot access the file because it is being used by another process: 'c:\\\\Users\\\\Lisandro\\\\Desktop\\\\Projects\\\\case-lisandro\\\\pretrained_models\\\\bert_pytorch\\\\model_state_dict.ptzfqxs8sttmp'\n",
      "Some weights of the model checkpoint at bert-base-german-cased were not used when initializing BertForSequenceClassification: ['cls.predictions.decoder.weight', 'cls.seq_relationship.weight', 'cls.predictions.transform.dense.weight', 'cls.predictions.bias', 'cls.predictions.transform.dense.bias', 'cls.seq_relationship.bias', 'cls.predictions.transform.LayerNorm.weight', 'cls.predictions.transform.LayerNorm.bias']\n",
      "- This IS expected if you are initializing BertForSequenceClassification from the checkpoint of a model trained on another task or with another architecture (e.g. initializing a BertForSequenceClassification model from a BertForPreTraining model).\n",
      "- This IS NOT expected if you are initializing BertForSequenceClassification from the checkpoint of a model that you expect to be exactly identical (initializing a BertForSequenceClassification model from a BertForSequenceClassification model).\n",
      "Some weights of BertForSequenceClassification were not initialized from the model checkpoint at bert-base-german-cased and are newly initialized: ['classifier.weight', 'classifier.bias']\n",
      "You should probably TRAIN this model on a down-stream task to be able to use it for predictions and inference.\n"
     ]
    }
   ],
   "source": [
    "import torch\n",
    "from transformers import AutoModelForSequenceClassification\n",
    "\n",
    "from lib.bert_pytorch.evaluate import evaluate_on_test_data\n",
    "\n",
    "import warnings\n",
    "warnings.filterwarnings(\"ignore\")\n",
    "\n",
    "\n",
    "# Add test_data.csv into the /data folder\n",
    "TEST_DATA_PATH = \"data/test_data.csv\"\n",
    "\n",
    "\n",
    "MODEL_NAME = \"bert-base-german-cased\"\n",
    "BATCH_SIZE = 32\n",
    "NUM_EPOCHS = 12\n",
    "SEED = 42\n",
    "USE_PRETRAINED_MODEL = True\n",
    "DOWNLOAD_WEIGHTS = True\n",
    "\n",
    "if USE_PRETRAINED_MODEL:\n",
    "    if DOWNLOAD_WEIGHTS:\n",
    "        import gdown\n",
    "        print(\"Downloading weights\")\n",
    "        id = \"1s3JPvZLDNLoF3Qu3MyOfZoGHAopxyc4C\"\n",
    "        output = \"pretrained_models/bert_pytorch/model_state_dict.pt\"\n",
    "        gdown.download(output=output, quiet=False, id=id)\n",
    "\n",
    "    model = AutoModelForSequenceClassification.from_pretrained(\n",
    "            MODEL_NAME,\n",
    "            num_labels = 24,\n",
    "            output_attentions = False,\n",
    "            output_hidden_states = False,\n",
    "        )\n",
    "    model.load_state_dict(torch.load(\"pretrained_models/bert_pytorch/model_state_dict.pt\"))\n",
    "\n",
    "testing_stats = evaluate_on_test_data(model, TEST_DATA_PATH, MODEL_NAME, BATCH_SIZE, SEED)\n",
    "print(\"\\nTesting results: \", testing_stats)"
   ]
  }
 ],
 "metadata": {
  "interpreter": {
   "hash": "9ffdfb0697f174c80f5cf0b5f22ddc30cefc12684f1f3af5faba8742076bf488"
  },
  "kernelspec": {
   "display_name": "Python 3.9.9 64-bit ('venv': venv)",
   "language": "python",
   "name": "python3"
  },
  "language_info": {
   "codemirror_mode": {
    "name": "ipython",
    "version": 3
   },
   "file_extension": ".py",
   "mimetype": "text/x-python",
   "name": "python",
   "nbconvert_exporter": "python",
   "pygments_lexer": "ipython3",
   "version": "3.9.9"
  },
  "orig_nbformat": 4
 },
 "nbformat": 4,
 "nbformat_minor": 2
}
